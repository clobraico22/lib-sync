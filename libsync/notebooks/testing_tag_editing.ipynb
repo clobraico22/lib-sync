{
 "cells": [
  {
   "cell_type": "code",
   "execution_count": null,
   "metadata": {},
   "outputs": [],
   "source": [
    "from pyrekordbox import show_config\n",
    "\n",
    "show_config()"
   ]
  },
  {
   "cell_type": "code",
   "execution_count": null,
   "metadata": {},
   "outputs": [],
   "source": [
    "from pyrekordbox import Rekordbox6Database\n",
    "from pyrekordbox.db6.tables import DjmdSongMyTag\n",
    "import uuid\n",
    "\n",
    "db = Rekordbox6Database()\n",
    "\n",
    "# print(len(db.get_content()))\n",
    "# print(len(db.get_playlist()))\n",
    "for song in db.get_my_tag_songs()[:1]:\n",
    "    print(dir(song))\n",
    "    print(song.Content)\n",
    "    print(song.ContentID)\n",
    "    print(song.MyTag)\n",
    "    print(song.MyTagID)\n",
    "    print(song.to_dict())\n",
    "    print(song.MyTagName)\n",
    "    print(song.TrackNo)\n",
    "    print(song.UUID)\n",
    "\n",
    "trance_tag_id = 1356778210\n",
    "just_a_feelin_song_id = 241771857\n",
    "\n",
    "\n",
    "new_mytag_entry = DjmdSongMyTag.create(\n",
    "    ID=str(uuid.uuid4()),\n",
    "    UUID=str(uuid.uuid4()),\n",
    "    MyTagID=trance_tag_id,  # ID of the My-Tag list\n",
    "    ContentID=just_a_feelin_song_id,  # ID of the track content\n",
    "    TrackNo=1,  # For ordering\n",
    ")\n",
    "\n",
    "db.add(new_mytag_entry)\n",
    "db.commit()\n",
    "\n",
    "# db.get_my_tag()\n",
    "# for content in db.get_content():\n",
    "#     artist = content.Artist\n",
    "#     name = artist.Name if artist else None\n",
    "#     print(content.Title, name)\n",
    "\n",
    "# playlist = db.get_playlist()[0]\n",
    "# for song in playlist.Songs:\n",
    "#     content = song.Content\n",
    "#     artist = content.Artist\n",
    "#     name = artist.Name if artist else None\n",
    "#     print(content.Title, name)"
   ]
  },
  {
   "cell_type": "code",
   "execution_count": null,
   "metadata": {},
   "outputs": [],
   "source": []
  },
  {
   "cell_type": "code",
   "execution_count": null,
   "metadata": {},
   "outputs": [],
   "source": [
    "from pyrekordbox import Rekordbox6Database\n",
    "\n",
    "rb = Rekordbox6Database()\n",
    "print(rb.db_directory)"
   ]
  },
  {
   "cell_type": "code",
   "execution_count": null,
   "metadata": {},
   "outputs": [],
   "source": [
    "from pyrekordbox.config import read_pyrekordbox_configuration\n",
    "\n",
    "read_pyrekordbox_configuration()"
   ]
  }
 ],
 "metadata": {
  "kernelspec": {
   "display_name": ".venv",
   "language": "python",
   "name": "python3"
  },
  "language_info": {
   "codemirror_mode": {
    "name": "ipython",
    "version": 3
   },
   "file_extension": ".py",
   "mimetype": "text/x-python",
   "name": "python",
   "nbconvert_exporter": "python",
   "pygments_lexer": "ipython3",
   "version": "3.12.9"
  }
 },
 "nbformat": 4,
 "nbformat_minor": 4
}
