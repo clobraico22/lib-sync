{
  "cells": [
    {
      "cell_type": "code",
      "execution_count": 3,
      "metadata": {},
      "outputs": [
        {
          "name": "stderr",
          "output_type": "stream",
          "text": [
            "Fetching Spotify playlists: 100%|██████████| 1/1 [00:00<00:00,  2.97it/s]\n",
            "Fetching more Spotify playlists: 0it [00:00, ?it/s]\n",
            "Fetching song details: 100%|██████████| 1/1 [00:00<00:00,  3.64it/s]\n"
          ]
        }
      ],
      "source": [
        "from dotenv import load_dotenv\n",
        "import spotipy\n",
        "from spotipy.oauth2 import SpotifyClientCredentials\n",
        "from libsync.spotify.spotify_api_utils import (\n",
        "    get_spotify_song_details,\n",
        "    get_user_playlists_details,\n",
        ")\n",
        "import nest_asyncio\n",
        "from libsync.utils.string_utils import (\n",
        "    get_spotify_uri_from_id,\n",
        "    pretty_print_spotify_track,\n",
        ")\n",
        "\n",
        "# hardcode playlist ID\n",
        "playlist_id = \"0w888XrmxysfqkgJrs5X0P\"\n",
        "\n",
        "# get secrets\n",
        "load_dotenv()\n",
        "\n",
        "# spotify auth\n",
        "auth_manager = SpotifyClientCredentials()\n",
        "sp = spotipy.Spotify(client_credentials_manager=auth_manager)\n",
        "\n",
        "# allow nested async (asyncio inside jupyter)\n",
        "nest_asyncio.apply()\n",
        "\n",
        "# get playlist details\n",
        "playlist_details = get_user_playlists_details([playlist_id])\n",
        "\n",
        "# get song details\n",
        "uris = [get_spotify_uri_from_id(id) for id in playlist_details[playlist_id]]\n",
        "songs = get_spotify_song_details(uris)"
      ]
    },
    {
      "cell_type": "code",
      "execution_count": 4,
      "metadata": {},
      "outputs": [
        {
          "name": "stdout",
          "output_type": "stream",
          "text": [
            "Lucius - Next to Normal\n",
            "Gitkin - Fools Gold\n",
            "Vieux Farka Touré, Khruangbin - Tongo Barra\n",
            "Tommy Guerrero - Soul Miner\n",
            "Glass Beams - Taurus\n",
            "Glass Beams - Mirage\n",
            "Robohands - Ikigai\n",
            "DARGZ, Moses Boyd - Lou's Tune\n",
            "Offthewally - Conversations\n",
            "MEZERG - Jam with Brülin\n",
            "Glass Beams - Kong\n",
            "Delvon Lamarr Organ Trio - Close but No Cigar\n",
            "Gitkin - El Millonario\n",
            "Vetiver - Strictly Rule\n",
            "Arc De Soleil - Got Caught in Amsterdam\n",
            "Gotts Street Park, Pip Millett - Got To Be Good\n",
            "Khruangbin, Leon Bridges - Texas Sun\n",
            "Khruangbin, Quantic - Pelota (Cut a Rug Mix)\n",
            "Bibi Tanga & The Selenites - Afro Groove on the Move\n",
            "Arc De Soleil - The Thief in Marrakesh\n",
            "Pigeon - Mama Yo Mama Yo\n",
            "Polo & Pan, Les Poppys, Isaac et Nora - Charanga\n",
            "Common Saints - Starchild\n",
            "Menahan Street Band - Midnight Morning\n",
            "Khruangbin - Connaissais de Face\n",
            "Common Saints - Summer Sun\n",
            "Fela Kuti, Roy Ayers - 2000 Blacks Got to Be Free - Edit\n",
            "Yin Yin - Pingpxng\n",
            "Arc De Soleil - Mumbo Sugar\n",
            "Arc De Soleil - Trying to Escape\n",
            "Hermanos Gutiérrez - It’s All In Your Mind\n",
            "Mike Sanders - Psyco Zombie\n",
            "Arc De Soleil - Sahara Cowboy\n",
            "The Blackbyrds - Mysterious Vibes\n",
            "Common Saints - Lovesong\n",
            "DOPE LEMON - Home Soon\n",
            "Hermanos Gutiérrez - El Bueno Y El Malo\n",
            "Syl Johnson - Soul Heaven\n",
            "Khruangbin - The No.3\n",
            "Hermanos Gutiérrez - Hoy Como Ayer\n",
            "Connan Mockasin - B'nD\n",
            "Khruangbin - Mr. White\n",
            "GODTET - Ensueño\n",
            "BALTHVS - In Lust\n",
            "Menahan Street Band - Queens Highway\n",
            "Khruangbin - Pon Pón\n"
          ]
        }
      ],
      "source": [
        "# DO STUFF WITH THE DATA (no network calls here)\n",
        "\n",
        "# pretty print\n",
        "for song, details in songs.items():\n",
        "    print(pretty_print_spotify_track(details))"
      ]
    }
  ],
  "metadata": {
    "kernelspec": {
      "display_name": ".venv",
      "language": "python",
      "name": "python3"
    },
    "language_info": {
      "codemirror_mode": {
        "name": "ipython",
        "version": 3
      },
      "file_extension": ".py",
      "mimetype": "text/x-python",
      "name": "python",
      "nbconvert_exporter": "python",
      "pygments_lexer": "ipython3",
      "version": "3.11.9"
    }
  },
  "nbformat": 4,
  "nbformat_minor": 4
}
