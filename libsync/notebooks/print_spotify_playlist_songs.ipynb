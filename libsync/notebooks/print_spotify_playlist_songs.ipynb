{
  "cells": [
    {
      "cell_type": "code",
      "execution_count": null,
      "metadata": {},
      "outputs": [],
      "source": [
        "from dotenv import load_dotenv\n",
        "import spotipy\n",
        "from spotipy.oauth2 import SpotifyClientCredentials\n",
        "from libsync.spotify.spotify_api_utils import (\n",
        "    get_spotify_song_details,\n",
        "    get_user_playlists_details,\n",
        ")\n",
        "import nest_asyncio\n",
        "from libsync.utils.string_utils import (\n",
        "    get_spotify_uri_from_id,\n",
        "    pretty_print_spotify_track,\n",
        ")\n",
        "\n",
        "# hardcode playlist ID\n",
        "playlist_id = \"0w888XrmxysfqkgJrs5X0P\"\n",
        "\n",
        "# get secrets\n",
        "load_dotenv()\n",
        "\n",
        "# spotify auth\n",
        "auth_manager = SpotifyClientCredentials()\n",
        "sp = spotipy.Spotify(client_credentials_manager=auth_manager)\n",
        "\n",
        "# allow nested async (asyncio inside jupyter)\n",
        "nest_asyncio.apply()\n",
        "\n",
        "# get playlist details\n",
        "playlist_details = get_user_playlists_details([playlist_id])\n",
        "\n",
        "# get song details\n",
        "uris = [get_spotify_uri_from_id(id) for id in playlist_details[playlist_id]]\n",
        "songs = get_spotify_song_details(uris)"
      ]
    },
    {
      "cell_type": "code",
      "execution_count": null,
      "metadata": {},
      "outputs": [],
      "source": [
        "# DO STUFF WITH THE DATA (no network calls here)\n",
        "\n",
        "# pretty print\n",
        "for song, details in songs.items():\n",
        "    print(pretty_print_spotify_track(details))"
      ]
    }
  ],
  "metadata": {
    "kernelspec": {
      "display_name": ".venv",
      "language": "python",
      "name": "python3"
    },
    "language_info": {
      "codemirror_mode": {
        "name": "ipython",
        "version": 3
      },
      "file_extension": ".py",
      "mimetype": "text/x-python",
      "name": "python",
      "nbconvert_exporter": "python",
      "pygments_lexer": "ipython3",
      "version": "3.11.9"
    }
  },
  "nbformat": 4,
  "nbformat_minor": 4
}
